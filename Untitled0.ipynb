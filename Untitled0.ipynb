{
  "nbformat": 4,
  "nbformat_minor": 0,
  "metadata": {
    "colab": {
      "provenance": [],
      "authorship_tag": "ABX9TyPT7HXlFYjEFFZ35BpQH0xQ",
      "include_colab_link": true
    },
    "kernelspec": {
      "name": "python3",
      "display_name": "Python 3"
    },
    "language_info": {
      "name": "python"
    }
  },
  "cells": [
    {
      "cell_type": "markdown",
      "metadata": {
        "id": "view-in-github",
        "colab_type": "text"
      },
      "source": [
        "<a href=\"https://colab.research.google.com/github/hlpvy/24_DS/blob/main/Untitled0.ipynb\" target=\"_parent\"><img src=\"https://colab.research.google.com/assets/colab-badge.svg\" alt=\"Open In Colab\"/></a>"
      ]
    },
    {
      "cell_type": "markdown",
      "source": [
        "# What is Python?\n",
        "\n",
        "Python is a programming language known for its readability and versatility. It is widely used in various fields such as:\n",
        "\n",
        "- Web Development\n",
        "- Data Analysis\n",
        "- Artificial Intelligence\n",
        "- Scientific Computing\n",
        "- Game Development\n",
        "- and more\n",
        "\n",
        "## Features of Python\n",
        "\n",
        "- **Readability**: Python has a clean syntax that makes it easy to read and write code.\n",
        "- **Versatility**: Python is used in various fields.\n",
        "- **Community Support**: A large and active community contributes to a rich set of libraries and frameworks.\n",
        "- **Cross-Platform**: Python is available and can run on various operating systems like Windows, Linux, and macOS."
      ],
      "metadata": {
        "id": "bouNYp1LfaRU"
      }
    },
    {
      "cell_type": "markdown",
      "source": [
        "# Python Basics"
      ],
      "metadata": {
        "id": "dlXXM-qsi0Cl"
      }
    },
    {
      "cell_type": "markdown",
      "source": [
        "## Function & Data\n",
        "\n",
        "```\n",
        "print(\"Hello world!\")\n",
        "```"
      ],
      "metadata": {
        "id": "PZjRFic5i963"
      }
    },
    {
      "cell_type": "code",
      "source": [
        "print(\"Hello world!\")"
      ],
      "metadata": {
        "colab": {
          "base_uri": "https://localhost:8080/"
        },
        "id": "OwNGX95NBXHj",
        "outputId": "f87ec754-5853-4f0a-baa0-1529799b8ada"
      },
      "execution_count": null,
      "outputs": [
        {
          "output_type": "stream",
          "name": "stdout",
          "text": [
            "Hello world!\n"
          ]
        }
      ]
    },
    {
      "cell_type": "markdown",
      "source": [
        "## Variable\n",
        "\n",
        "```\n",
        "a = \"Hello world!\"\n",
        "print(a)\n",
        "```"
      ],
      "metadata": {
        "id": "0qpSJt78j2K2"
      }
    },
    {
      "cell_type": "code",
      "source": [
        "a = \"Hello world!\"\n",
        "print(a)\n",
        "\n",
        "# print() : 함수의 형태"
      ],
      "metadata": {
        "colab": {
          "base_uri": "https://localhost:8080/"
        },
        "id": "um0dq-gsQYs2",
        "outputId": "4aa1cf75-152a-4fe2-c603-6ba43a3acc60"
      },
      "execution_count": null,
      "outputs": [
        {
          "output_type": "stream",
          "name": "stdout",
          "text": [
            "Hello world!\n"
          ]
        }
      ]
    },
    {
      "cell_type": "markdown",
      "source": [
        "## Data Type: int, float\n",
        "\n",
        "* Creating Numbers\n",
        "```\n",
        "a = 1\n",
        "b = 3.14\n",
        "```\n",
        "\n",
        "* Arithmetic Operations\n",
        "```\n",
        "10 + 2\n",
        "10 - 2\n",
        "10 * 2\n",
        "10 / 2\n",
        "10 ** 2\n",
        "```"
      ],
      "metadata": {
        "id": "xL-f7r2RkBlU"
      }
    },
    {
      "cell_type": "code",
      "source": [
        "a = 1\n",
        "b = 3.14"
      ],
      "metadata": {
        "id": "8mhWtAr7SM8_"
      },
      "execution_count": null,
      "outputs": []
    },
    {
      "cell_type": "code",
      "source": [
        "a = 3\n",
        "b = 2\n",
        "\n",
        "print(a + b)\n",
        "print(a - b)\n",
        "print(a * b)\n",
        "print(a / b)            #not always 정수,\n",
        "print(a ** b) #mũ"
      ],
      "metadata": {
        "colab": {
          "base_uri": "https://localhost:8080/"
        },
        "id": "KHV0JSIBSTJz",
        "outputId": "b04058a2-6635-454e-84c6-a66714b17837"
      },
      "execution_count": null,
      "outputs": [
        {
          "output_type": "stream",
          "name": "stdout",
          "text": [
            "5\n",
            "1\n",
            "6\n",
            "1.5\n",
            "9\n"
          ]
        }
      ]
    },
    {
      "cell_type": "code",
      "source": [
        "a=\"hello\""
      ],
      "metadata": {
        "id": "LJ3VhUVlRYU8"
      },
      "execution_count": null,
      "outputs": []
    },
    {
      "cell_type": "code",
      "source": [
        "a = 1\n",
        "b = 3.14\n",
        "\n",
        "10 + 2\n",
        "10 - 2\n",
        "10 * 2\n",
        "10 / 2\n",
        "10 ** 2"
      ],
      "metadata": {
        "id": "_m6FkfFtBhah"
      },
      "execution_count": null,
      "outputs": []
    },
    {
      "cell_type": "markdown",
      "source": [
        "## Data Type: list\n",
        "\n",
        "* Creating Lists\n",
        "```\n",
        "a = [1, 2, 3, 4, 5]\n",
        "```\n",
        "\n",
        "* Accessing Items\n",
        "```\n",
        "b = a[0]\n",
        "c = a[1:3]\n",
        "```\n",
        "\n",
        "* Modifying Items\n",
        "```\n",
        "a[1] = 20\n",
        "```\n",
        "\n",
        "* Appending & Removing Items\n",
        "```\n",
        "a.append(6)\n",
        "a.pop(2)\n",
        "```\n",
        "\n",
        "* Combining Lists\n",
        "```\n",
        "a = [1, 2, 3]\n",
        "b = [4, 5]\n",
        "c = a + b\n",
        "```"
      ],
      "metadata": {
        "id": "OYoVTcRplPOi"
      }
    },
    {
      "cell_type": "code",
      "source": [
        "a = [0, 1, 2, 3, 4, \"xy\"]       #mix số và chữ cũng dc, ko cần luôn là số\n",
        "#             -3 -2  -1"
      ],
      "metadata": {
        "id": "bK2znuaVBmA0"
      },
      "execution_count": null,
      "outputs": []
    },
    {
      "cell_type": "code",
      "source": [
        "b = a[0]\n",
        "c = a[1:3]\n",
        "#d = a[:3]; d = a[1:]\n",
        "\n",
        "print(b)\n",
        "print(c)"
      ],
      "metadata": {
        "colab": {
          "base_uri": "https://localhost:8080/"
        },
        "id": "yAJ1dOJgBoq-",
        "outputId": "fc34755c-4b1f-4dde-c2aa-366235ccb42e"
      },
      "execution_count": null,
      "outputs": [
        {
          "output_type": "stream",
          "name": "stdout",
          "text": [
            "0\n",
            "[20, 2]\n"
          ]
        }
      ]
    },
    {
      "cell_type": "code",
      "source": [
        "e=a[-1]\n",
        "print(e)\n",
        "\n",
        "print(a[-4:-1]) #khum phải -1:-4 đâu\n",
        "print(a[1:-1]) # nghĩa là from 1 to last"
      ],
      "metadata": {
        "colab": {
          "base_uri": "https://localhost:8080/"
        },
        "id": "cGMMvuIWZLMa",
        "outputId": "5c70c973-1e88-4c05-8948-d60b6b6c271b"
      },
      "execution_count": null,
      "outputs": [
        {
          "output_type": "stream",
          "name": "stdout",
          "text": [
            "xy\n",
            "[2, 3, 4]\n",
            "[1, 2, 3, 4]\n"
          ]
        }
      ]
    },
    {
      "cell_type": "code",
      "source": [
        "a[1] = 20\n",
        "\n",
        "print(a)"
      ],
      "metadata": {
        "colab": {
          "base_uri": "https://localhost:8080/"
        },
        "id": "vcCLUJViBqus",
        "outputId": "a7d24d65-5f05-4ed4-f148-5d34b7c27159"
      },
      "execution_count": null,
      "outputs": [
        {
          "output_type": "stream",
          "name": "stdout",
          "text": [
            "[0, 20, 2, 3, 4, 'xy']\n"
          ]
        }
      ]
    },
    {
      "cell_type": "code",
      "source": [
        "a.append(6) #thêm 6 vào đuôi\n",
        "a.pop(3)    #pop đi vị trí 3\n",
        "\n",
        "print(a)"
      ],
      "metadata": {
        "colab": {
          "base_uri": "https://localhost:8080/"
        },
        "id": "f3bXcfRzBrBt",
        "outputId": "f322319b-608c-4b03-b09a-6ce1af66f41f"
      },
      "execution_count": null,
      "outputs": [
        {
          "output_type": "stream",
          "name": "stdout",
          "text": [
            "[1, 2, 3, 'Vy', 6]\n"
          ]
        }
      ]
    },
    {
      "cell_type": "code",
      "source": [
        "a = [1, 2, 3]\n",
        "b = [4, 5]\n",
        "c = a + b"
      ],
      "metadata": {
        "id": "3PqySM3rBshB"
      },
      "execution_count": null,
      "outputs": []
    },
    {
      "cell_type": "markdown",
      "source": [
        "## Data Type: string\n",
        "\n",
        "* Creating Strings\n",
        "```\n",
        "a = \"Hello world!\"\n",
        "```\n",
        "\n",
        "* Accessing Characters\n",
        "```\n",
        "b = a[0]\n",
        "c = a[1:3]\n",
        "```\n",
        "\n",
        "* Combining Strings\n",
        "```\n",
        "a = \"Hello \"\n",
        "b = \"world!\"\n",
        "c = a + b\n",
        "```"
      ],
      "metadata": {
        "id": "Y-0repiDr0cH"
      }
    },
    {
      "cell_type": "code",
      "source": [
        "a = \"Hello world!\""
      ],
      "metadata": {
        "id": "sEM674aGBvbF"
      },
      "execution_count": null,
      "outputs": []
    },
    {
      "cell_type": "code",
      "source": [
        "b = a[0]\n",
        "c = a[1:3]"
      ],
      "metadata": {
        "id": "kVzHEN1bBv3V"
      },
      "execution_count": null,
      "outputs": []
    },
    {
      "cell_type": "code",
      "source": [
        "a = \"Hello \"\n",
        "b = \"world!\"\n",
        "c = a + b"
      ],
      "metadata": {
        "id": "OMWmnJfgBv_Z"
      },
      "execution_count": null,
      "outputs": []
    },
    {
      "cell_type": "markdown",
      "source": [
        "## Data Type: dictionary\n",
        "\n",
        "* Creating Dictionaries\n",
        "```\n",
        "a = { \"name\": \"Danielle\", \"age\" : 25, \"city\": \"Newcastle\" }\n",
        "```\n",
        "\n",
        "* Accessing Values\n",
        "```\n",
        "b = a[\"name\"]\n",
        "```\n",
        "\n",
        "* Modifying Values\n",
        "```\n",
        "a[\"age\"] = 19\n",
        "```\n",
        "\n",
        "* Adding & Removing Key-Value Pairs\n",
        "```\n",
        "a[\"country\"] = \"Australia\"\n",
        "del a[\"city\"]\n",
        "```"
      ],
      "metadata": {
        "id": "VWcO75jfllNC"
      }
    },
    {
      "cell_type": "code",
      "source": [
        "a = { \"name\": \"Danielle\", \"age\" : 25, \"city\": \"Newcastle\" }"
      ],
      "metadata": {
        "id": "5yfSz45cBy4l"
      },
      "execution_count": null,
      "outputs": []
    },
    {
      "cell_type": "code",
      "source": [
        "b = a[\"name\"]"
      ],
      "metadata": {
        "id": "2E-Bj7lUB0Ix"
      },
      "execution_count": null,
      "outputs": []
    },
    {
      "cell_type": "code",
      "source": [
        "a[\"age\"] = 19"
      ],
      "metadata": {
        "id": "pn3lQ51tB0NF"
      },
      "execution_count": null,
      "outputs": []
    },
    {
      "cell_type": "code",
      "source": [
        "a[\"country\"] = \"Australia\"\n",
        "del a[\"city\"]"
      ],
      "metadata": {
        "id": "rmfRY2G0B0QT"
      },
      "execution_count": null,
      "outputs": []
    },
    {
      "cell_type": "markdown",
      "source": [
        "\n",
        "\n",
        "---\n",
        "\n"
      ],
      "metadata": {
        "id": "PJ0sOuPkHpyp"
      }
    },
    {
      "cell_type": "markdown",
      "source": [
        "1. Windows, MacOS: 이름은 운영체제/**Opering System**.\n",
        "=> python: 호환성\n",
        "\n",
        "2. Space -> google colab\n",
        "3. instruction -> code"
      ],
      "metadata": {
        "id": "CuLn0DhsHXHd"
      }
    },
    {
      "cell_type": "markdown",
      "source": [
        "\n",
        "\n",
        "---\n",
        "\n"
      ],
      "metadata": {
        "id": "W7rhryiFIqLN"
      }
    },
    {
      "cell_type": "markdown",
      "source": [
        "# Python Basics (2)"
      ],
      "metadata": {
        "id": "Z3AJ45wgJDMt"
      }
    },
    {
      "cell_type": "markdown",
      "source": [
        "## Data Type: boolean\n",
        "\n",
        "* Creating Boolean Values\n",
        "```python\n",
        "a = True\n",
        "b = False\n",
        "```\n",
        "\n",
        "* Comparison\n",
        "```python\n",
        "a == b\n",
        "a != b\n",
        "```\n",
        "\n",
        "* Logical Operation\n",
        "```python\n",
        "a and b\n",
        "a or b\n",
        "not a\n",
        "```"
      ],
      "metadata": {
        "id": "L8Nxm1yTJJpv"
      }
    },
    {
      "cell_type": "markdown",
      "source": [
        "## Control Flow: if, elif, else\n",
        "\n",
        "* Syntax\n",
        "```python\n",
        "if condition:\n",
        "    # execute this block of code\n",
        "elif another_condition:\n",
        "    # execute this block of code\n",
        "else:\n",
        "    # if none of the above conditions are true, execute this block\n",
        "```"
      ],
      "metadata": {
        "id": "l5gqUhrVMBn8"
      }
    },
    {
      "cell_type": "markdown",
      "source": [
        "## Control Flow: for\n",
        "\n",
        "* Syntax\n",
        "```python\n",
        "for item in sequence:\n",
        "    # execute this block of code for each item in the sequence\n",
        "```"
      ],
      "metadata": {
        "id": "ZDeCBGm9M1RJ"
      }
    },
    {
      "cell_type": "markdown",
      "source": [
        "## Control Flow: while\n",
        "\n",
        "* Syntax\n",
        "```python\n",
        "while condition:\n",
        "    # execute this block of code as long as the condition is true\n",
        "```"
      ],
      "metadata": {
        "id": "vhOg4NV_NNL-"
      }
    },
    {
      "cell_type": "code",
      "source": [
        "a=[1,2,3,4]\n",
        "\n",
        "for i in a:\n",
        "  print(i)\n",
        "  break"
      ],
      "metadata": {
        "colab": {
          "base_uri": "https://localhost:8080/"
        },
        "id": "SgPMlXo1I8G3",
        "outputId": "139fe921-aedc-4745-b74c-fb1e0bfff50e"
      },
      "execution_count": null,
      "outputs": [
        {
          "output_type": "stream",
          "name": "stdout",
          "text": [
            "1\n"
          ]
        }
      ]
    },
    {
      "cell_type": "code",
      "source": [
        "a=[1,2,3,4]\n",
        "\n",
        "for i in a:\n",
        "  if i != 3:\n",
        "    print(i)\n",
        "  else:\n",
        "    break"
      ],
      "metadata": {
        "colab": {
          "base_uri": "https://localhost:8080/"
        },
        "id": "1KIaH0anJ1iJ",
        "outputId": "be1b8860-e812-4ab4-b3b1-d59831e66384"
      },
      "execution_count": null,
      "outputs": [
        {
          "output_type": "stream",
          "name": "stdout",
          "text": [
            "1\n",
            "2\n"
          ]
        }
      ]
    },
    {
      "cell_type": "markdown",
      "source": [
        "## Iterating Over Lists\n",
        "\n",
        "* Iterating Over Lists\n",
        "```python\n",
        "for item in my_list:\n",
        "    print(item)\n",
        "```\n",
        "\n",
        "* List Comprehensions\n",
        "```python\n",
        "new_list = [x + 1 for x in range(5)]\n",
        "```"
      ],
      "metadata": {
        "id": "N-MrxAzRNoXL"
      }
    },
    {
      "cell_type": "code",
      "source": [
        "a=[1,2,3,4,...10]"
      ],
      "metadata": {
        "id": "Vt0BlKVkLkAq"
      },
      "execution_count": null,
      "outputs": []
    },
    {
      "cell_type": "code",
      "source": [
        "range(4) #parameters!!!\n",
        "#input: start(x),stop ....range(start, stop, step). >< stop qtrong, kh start:=0, kh step:=1\n"
      ],
      "metadata": {
        "colab": {
          "base_uri": "https://localhost:8080/"
        },
        "id": "3mBS1PRIL713",
        "outputId": "67a1c8cf-42b4-4e5e-9ef6-303cd5a696e8"
      },
      "execution_count": null,
      "outputs": [
        {
          "output_type": "execute_result",
          "data": {
            "text/plain": [
              "range(0, 4)"
            ]
          },
          "metadata": {},
          "execution_count": 12
        }
      ]
    },
    {
      "cell_type": "code",
      "source": [
        "#정의하는 부분\n",
        "def add(x,y):\n",
        "  return x+y\n",
        "\n",
        "#실행하는 부분\n",
        "b=add(1,2)\n",
        "print(b)"
      ],
      "metadata": {
        "colab": {
          "base_uri": "https://localhost:8080/"
        },
        "id": "jPqAFFXGPJ4i",
        "outputId": "c532f9c5-a9b4-45be-8be5-18146ce539d1"
      },
      "execution_count": null,
      "outputs": [
        {
          "output_type": "stream",
          "name": "stdout",
          "text": [
            "3\n"
          ]
        }
      ]
    },
    {
      "cell_type": "markdown",
      "source": [
        "## Iterating Over Dictionaries\n",
        "\n",
        "* Iterating Over Dictionaries\n",
        "```python\n",
        "for key, value in my_dict.items():\n",
        "    print(key, value)\n",
        "```\n",
        "\n",
        "* Dictionary Comprehensions\n",
        "```python\n",
        "new_dict = {x: x + 1 for x in range(5)}\n",
        "```"
      ],
      "metadata": {
        "id": "1ICrGtdPOuYI"
      }
    },
    {
      "cell_type": "markdown",
      "source": [
        "## Function\n",
        "\n",
        "* Syntax\n",
        "\n",
        "```python\n",
        "def function_name(parameters):\n",
        "    # block of code\n",
        "    return result\n",
        "```\n",
        "\n",
        "* Scope\n",
        "\n",
        "```python\n",
        "x = 10\n",
        "\n",
        "def my_function():\n",
        "    y = 5\n",
        "    print(x)  # This will print 10 (global variable)\n",
        "    print(y)  # This will print 5 (local variable)\n",
        "\n",
        "my_function()\n",
        "print(y)  # This will cause an error\n",
        "```"
      ],
      "metadata": {
        "id": "98KzdJ92PUew"
      }
    },
    {
      "cell_type": "markdown",
      "source": [
        "\n",
        "\n",
        "---\n",
        "\n"
      ],
      "metadata": {
        "id": "frE2AB0FI1IM"
      }
    },
    {
      "cell_type": "markdown",
      "source": [
        "# String Formatting & File Handling"
      ],
      "metadata": {
        "id": "Jt_b0qfrCKrV"
      }
    },
    {
      "cell_type": "markdown",
      "source": [
        "## String Formatting\n",
        "\n",
        "* f-string\n",
        "\n",
        "```python\n",
        "language = \"python\"\n",
        "sentence = f\"Hello, welcome to {language} programming!\"\n",
        "print(sentence)\n",
        "```"
      ],
      "metadata": {
        "id": "nb_UZmyuFMYP"
      }
    },
    {
      "cell_type": "markdown",
      "source": [
        "## Reading From Files\n",
        "\n",
        "* read()\n",
        "\n",
        "```python\n",
        "with open(\"sample.txt\", \"r\") as file:\n",
        "  content = file.read()\n",
        "```\n",
        "\n",
        "* readline()\n",
        "\n",
        "```python\n",
        "with open(\"sample.txt\", \"r\") as file:\n",
        "  line = file.readline()\n",
        "```\n",
        "\n",
        "* readlines()\n",
        "\n",
        "```python\n",
        "with open(\"sample.txt\", \"r\") as file:\n",
        "  lines = file.readlines()\n",
        "  \n",
        "  for line in lines:\n",
        "    print(line)\n",
        "```"
      ],
      "metadata": {
        "id": "m26WKcyzCVPR"
      }
    },
    {
      "cell_type": "markdown",
      "source": [
        "## Writing To Files\n",
        "\n",
        "* write()\n",
        "\n",
        "```python\n",
        "with open(\"sample.txt\", \"w\") as file:\n",
        "  file.write(\"Hello world!\")\n",
        "```\n",
        "\n",
        "* append\n",
        "\n",
        "```python\n",
        "with open(\"sample.txt\", \"a\") as file:\n",
        "  file.write(\"Hello python!\")\n",
        "```\n",
        "\n",
        "* newline\n",
        "\n",
        "```python\n",
        "with open(\"sample.txt\", \"w\") as file:\n",
        "  file.write(\"Hello world!\\n\")\n",
        "  file.write(\"Hello python!\")\n",
        "```"
      ],
      "metadata": {
        "id": "8COXeSv2Dzmm"
      }
    },
    {
      "cell_type": "markdown",
      "source": [
        "\n",
        "\n",
        "---\n",
        "\n"
      ],
      "metadata": {
        "id": "o-7JHoK7I3Q6"
      }
    },
    {
      "cell_type": "markdown",
      "source": [
        "# Package"
      ],
      "metadata": {
        "id": "DOu2dYMHjcQu"
      }
    },
    {
      "cell_type": "markdown",
      "source": [
        "## Python Standard Library\n",
        "\n",
        "* examples\n",
        "\n",
        "```python\n",
        "import random\n",
        "\n",
        "print(random.randint(1, 9))\n",
        "```\n",
        "\n",
        "```python\n",
        "import math\n",
        "\n",
        "print(math.sqrt(16))\n",
        "print(math.pi)\n",
        "```"
      ],
      "metadata": {
        "id": "7gWZZZ5GjqyN"
      }
    },
    {
      "cell_type": "code",
      "source": [
        "import random\n",
        "# : random.randint(start,stop)\n",
        "print(random.randint(1,9)) #từ 1->9, not 1-8"
      ],
      "metadata": {
        "colab": {
          "base_uri": "https://localhost:8080/"
        },
        "id": "aadJ3VJjUdwl",
        "outputId": "72a78dea-132f-4ea9-da85-427270b0d871"
      },
      "execution_count": null,
      "outputs": [
        {
          "output_type": "stream",
          "name": "stdout",
          "text": [
            "9\n"
          ]
        }
      ]
    },
    {
      "cell_type": "code",
      "source": [
        "#external library\n",
        "#thử python trên terminal\n",
        "import numpy\n"
      ],
      "metadata": {
        "id": "JDmcwfD9V7NZ"
      },
      "execution_count": null,
      "outputs": []
    },
    {
      "cell_type": "code",
      "source": [
        "a = 16\n",
        "\n",
        "\n",
        "\n",
        "#package\n",
        "import math #phải import math ms dc (16:16)\n",
        "a=16\n",
        "b=math.sqrt(a)\n",
        "print(b)\n",
        "\n",
        "c=math.pi\n",
        "print(c)\n"
      ],
      "metadata": {
        "colab": {
          "base_uri": "https://localhost:8080/"
        },
        "id": "_5MuqIwIRuUf",
        "outputId": "8bfe2447-35fa-4f75-e2b9-a18fd0538a09"
      },
      "execution_count": null,
      "outputs": [
        {
          "output_type": "stream",
          "name": "stdout",
          "text": [
            "4.0\n",
            "3.141592653589793\n"
          ]
        }
      ]
    },
    {
      "cell_type": "markdown",
      "source": [
        "## Numpy\n",
        "\n",
        "* numpy array\n",
        "\n",
        "```python\n",
        "import numpy as np\n",
        "\n",
        "a = np.array([1, 2, 3])\n",
        "```\n",
        "\n",
        "* element-wise calculations\n",
        "\n",
        "```python\n",
        "b = a + 2\n",
        "c = a - 2\n",
        "d = a * 2\n",
        "e = a / 2\n",
        "f = a ** 2\n",
        "```\n",
        "\n",
        "* basic functions\n",
        "\n",
        "```python\n",
        "b = np.sum(a)\n",
        "c = np.mean(a)\n",
        "d = np.min(a)\n",
        "e = np.max(a)\n",
        "```\n",
        "\n",
        "* multi-dimensional array\n",
        "\n",
        "```python\n",
        "a = np.array([[1, 2], [3, 4], [5, 6]])\n",
        "\n",
        "b = a[0, 1]\n",
        "```\n",
        "\n",
        "* axis\n",
        "\n",
        "```python\n",
        "b = np.mean(a, axis=0)\n",
        "c = np.mean(a, axis=1)\n",
        "```\n",
        "\n",
        "* real-world data as numpy array\n",
        "\n",
        "```python\n",
        "# image\n",
        "from PIL import Image\n",
        "\n",
        "a = Image.open(\"cat.jpg\")\n",
        "b = np.array(a)\n",
        "```\n",
        "\n",
        "```python\n",
        "# audio\n",
        "import librosa\n",
        "\n",
        "a, sr = librosa.load(\"hi.mp3\")\n",
        "```\n"
      ],
      "metadata": {
        "id": "g5c_HKdokhWA"
      }
    },
    {
      "cell_type": "code",
      "source": [
        "import numpy as np\n",
        "\n",
        "# numpy array != list !!!!\n",
        "\n",
        "a = np.array([1,2,3])\n",
        "print(a)\n",
        "\n",
        "\n",
        "#array = list"
      ],
      "metadata": {
        "colab": {
          "base_uri": "https://localhost:8080/"
        },
        "id": "jtdeeHGwZOGO",
        "outputId": "9e3e40e5-c6a2-47cc-c07b-35b80aebf73a"
      },
      "execution_count": null,
      "outputs": [
        {
          "output_type": "stream",
          "name": "stdout",
          "text": [
            "[1 2 3]\n"
          ]
        }
      ]
    },
    {
      "cell_type": "code",
      "source": [
        "a=[1,2,3]\n",
        "b=[3,4,5,6]\n",
        "\n",
        "print(a+b)"
      ],
      "metadata": {
        "colab": {
          "base_uri": "https://localhost:8080/"
        },
        "id": "j5qgxKgod4RU",
        "outputId": "ed001611-2a49-4945-deb4-55d0fdbad240"
      },
      "execution_count": null,
      "outputs": [
        {
          "output_type": "stream",
          "name": "stdout",
          "text": [
            "[1, 2, 3, 3, 4, 5, 6]\n"
          ]
        }
      ]
    },
    {
      "cell_type": "code",
      "source": [
        "#numpy array:\n",
        "import numpy as np\n",
        "\n",
        "a=np.array([1,2,3])\n",
        "b=np.array([3,4,5])\n",
        "\n",
        "print(a+b)"
      ],
      "metadata": {
        "colab": {
          "base_uri": "https://localhost:8080/"
        },
        "id": "vyHJYh8Jd9by",
        "outputId": "d6db8298-8ffe-40c9-bf2d-088da6af8708"
      },
      "execution_count": null,
      "outputs": [
        {
          "output_type": "stream",
          "name": "stdout",
          "text": [
            "[4 6 8]\n"
          ]
        }
      ]
    },
    {
      "cell_type": "code",
      "source": [
        "# [1,2,3,4,5]\n",
        "print(a[1:-1]) #nay la gi v?\n"
      ],
      "metadata": {
        "colab": {
          "base_uri": "https://localhost:8080/"
        },
        "id": "_57ZalZDfJEf",
        "outputId": "0c033783-4498-4fea-f415-bcfc0fc39bf4"
      },
      "execution_count": null,
      "outputs": [
        {
          "output_type": "stream",
          "name": "stdout",
          "text": [
            "[2]\n"
          ]
        }
      ]
    },
    {
      "cell_type": "code",
      "source": [
        "b=np.array([4,5,6]) #3D phai cung la 3D\n",
        "c=a+b\n",
        "print(c)\n",
        "\n",
        "#=> kqua numpy la cong vector, kqua list bthg la show tat ca cac bien cua 2 lists/."
      ],
      "metadata": {
        "colab": {
          "base_uri": "https://localhost:8080/"
        },
        "id": "Jtmy6OuafdvI",
        "outputId": "c5ae774c-936e-4d80-802f-f0325f89b8f0"
      },
      "execution_count": null,
      "outputs": [
        {
          "output_type": "stream",
          "name": "stdout",
          "text": [
            "[5 7 9]\n"
          ]
        }
      ]
    },
    {
      "cell_type": "code",
      "source": [
        "#b=[1,2,3,4,5]\n",
        "#c=[x+1 for x in b]\n",
        "#print(c)\n",
        "\n",
        "import numpy as np\n",
        "b=[1,2,3,4,5]\n",
        "c=[]\n",
        "for i in b:\n",
        "  c.append(i+1)\n",
        "print(c)"
      ],
      "metadata": {
        "colab": {
          "base_uri": "https://localhost:8080/"
        },
        "id": "5sabaOutf6Re",
        "outputId": "8b630583-b225-487d-dfa0-575a3bb49c43"
      },
      "execution_count": null,
      "outputs": [
        {
          "output_type": "stream",
          "name": "stdout",
          "text": [
            "[2, 3, 4, 5, 6]\n"
          ]
        }
      ]
    },
    {
      "cell_type": "code",
      "source": [
        "a=np.array([1,2,3,4,5])\n",
        "print(a+1) #thay vi d=np.array([1,1,1,1,1]) xong roi a+d"
      ],
      "metadata": {
        "colab": {
          "base_uri": "https://localhost:8080/"
        },
        "id": "N-VC-sN8g2HJ",
        "outputId": "c2d8a34d-3684-4318-e729-840d2fee85aa"
      },
      "execution_count": null,
      "outputs": [
        {
          "output_type": "stream",
          "name": "stdout",
          "text": [
            "[2 3 4 5 6]\n"
          ]
        }
      ]
    },
    {
      "cell_type": "code",
      "source": [
        "b = np.sum(a)\n",
        "c = np.mean(a)\n",
        "d = np.min(a)\n",
        "e = np.max(a)\n",
        "print(b,c,d,e)"
      ],
      "metadata": {
        "colab": {
          "base_uri": "https://localhost:8080/"
        },
        "id": "Z4jKsu4vhnVE",
        "outputId": "3c0514fb-52f0-4979-d10a-67c0971b86c2"
      },
      "execution_count": null,
      "outputs": [
        {
          "output_type": "stream",
          "name": "stdout",
          "text": [
            "15 3.0 1 5\n"
          ]
        }
      ]
    },
    {
      "cell_type": "code",
      "source": [
        "#ap dung cua matrix: tra thong tin theo column, row별"
      ],
      "metadata": {
        "id": "0WEF2sp2j-CC"
      },
      "execution_count": null,
      "outputs": []
    },
    {
      "cell_type": "code",
      "source": [
        "a = np.array([[1, 2], [3, 4], [5, 6]])\n",
        "print(a)\n",
        "\n",
        "print(a.shape) #=> 3doc x 2ngang\n",
        "\n",
        "b = a[1, 1]\n",
        "print(b)"
      ],
      "metadata": {
        "colab": {
          "base_uri": "https://localhost:8080/"
        },
        "id": "QeEvSZwPje1h",
        "outputId": "240f949b-cddb-4599-9daa-a988b9b6cd73"
      },
      "execution_count": null,
      "outputs": [
        {
          "output_type": "stream",
          "name": "stdout",
          "text": [
            "[[1 2]\n",
            " [3 4]\n",
            " [5 6]]\n",
            "(3, 2)\n",
            "4\n"
          ]
        }
      ]
    },
    {
      "cell_type": "code",
      "source": [
        "np.mean(a)\n",
        "\n",
        "b = np.mean(a, axis=0)\n",
        "c = np.mean(a, axis=1)\n",
        "\n",
        "#ra\n",
        "\n",
        "print(b)\n",
        "print(c)"
      ],
      "metadata": {
        "colab": {
          "base_uri": "https://localhost:8080/"
        },
        "id": "LmLMPrm2SYtN",
        "outputId": "8e9b8738-adc2-4465-d045-b3f91003db2e"
      },
      "execution_count": null,
      "outputs": [
        {
          "output_type": "stream",
          "name": "stdout",
          "text": [
            "[3. 4.]\n",
            "[1.5 3.5 5.5]\n"
          ]
        }
      ]
    },
    {
      "cell_type": "code",
      "source": [
        "a = np.array(\n",
        "    [[1,2],\n",
        "     [3,4],\n",
        "     [5,6]]\n",
        ")\n",
        "print(a)\n",
        "     [3,4]]]\n",
        ")"
      ],
      "metadata": {
        "id": "EZkX8EGMUoYm"
      },
      "execution_count": null,
      "outputs": []
    },
    {
      "cell_type": "code",
      "source": [
        "def x(w,y):\n",
        "  print(w+y)\n"
      ],
      "metadata": {
        "id": "GBIoUlhuUDh-"
      },
      "execution_count": null,
      "outputs": []
    },
    {
      "cell_type": "code",
      "source": [
        "len([1,2,3,4,5]) #chi tinh len duoc cho 1차원\n",
        "#len([1,2,3,4,5],[2,3,4,5,6]): sai, vi 2차원 kh tinh length duoc\n",
        "\n",
        "\n",
        "np.shape([1,2,3,4,5])\n",
        "\n",
        "z=np.array([[1,2,3,4,5],[2,3,4,5,6]])\n",
        "print(z.shape) #oooooooh"
      ],
      "metadata": {
        "colab": {
          "base_uri": "https://localhost:8080/"
        },
        "id": "BQRzkAzskuV2",
        "outputId": "74a5b9af-7cea-4672-cafc-bc1b40a531a3"
      },
      "execution_count": null,
      "outputs": [
        {
          "output_type": "stream",
          "name": "stdout",
          "text": [
            "(2, 5)\n"
          ]
        }
      ]
    },
    {
      "cell_type": "markdown",
      "source": [
        "tuple: 수정할 수 없는 list\n",
        "(5,) nghia la 5ngang 1doc?"
      ],
      "metadata": {
        "id": "PofNy-jYluzC"
      }
    },
    {
      "cell_type": "code",
      "source": [
        "#axis\n",
        "b = np.mean(a, axis=0)\n",
        "c = np.mean(a, axis=1)\n",
        "real-world data as numpy array\n",
        "# image\n",
        "from PIL import Image\n",
        "\n",
        "a = Image.open(\"cat.jpg\")\n",
        "b = np.array(a)\n",
        "# audio\n",
        "import librosa\n",
        "\n",
        "a, sr = librosa.load(\"hi.mp3\")"
      ],
      "metadata": {
        "id": "q77OiFjwji7r"
      },
      "execution_count": null,
      "outputs": []
    },
    {
      "cell_type": "code",
      "source": [
        "a = np.array(\n",
        "    [[1,2],\n",
        "     [3,4]])\n",
        "print(a[0,0])"
      ],
      "metadata": {
        "colab": {
          "base_uri": "https://localhost:8080/"
        },
        "id": "WuP8oHPuX50z",
        "outputId": "09db5554-9a6f-44f8-a27a-2b6cc06c74ad"
      },
      "execution_count": null,
      "outputs": [
        {
          "output_type": "stream",
          "name": "stdout",
          "text": [
            "1\n"
          ]
        }
      ]
    },
    {
      "source": [
        "from PIL import Image # Change 'image' to 'Image'\n",
        "\n",
        "a = Image.open(\"cat.jpg\")\n",
        "b = np.array(a)"
      ],
      "cell_type": "code",
      "metadata": {
        "id": "ogXJjeHZczgz"
      },
      "execution_count": null,
      "outputs": []
    },
    {
      "cell_type": "markdown",
      "source": [
        "\n",
        "\n",
        "---\n",
        "\n"
      ],
      "metadata": {
        "id": "JBA6pW7kJJ4d"
      }
    },
    {
      "cell_type": "markdown",
      "source": [
        "# Pandas"
      ],
      "metadata": {
        "id": "R3SrZu5wKQwO"
      }
    },
    {
      "cell_type": "markdown",
      "source": [
        "## Basics\n",
        "\n",
        "* DataFrame\n",
        "\n",
        "```python\n",
        "import pandas as pd\n",
        "\n",
        "a = pd.read_csv(\"weather.csv\")\n",
        "b = pd.DataFrame([{\"Column1\": \"A\", \"Column2\": 1000}, {\"Column1\": \"B\", \"Column2\": 300}])\n",
        "```\n",
        "\n",
        "* Accessing Values\n",
        "\n",
        "```python\n",
        "# Column\n",
        "b = a[\"Temperature\"]\n",
        "d = a[[\"Humidity\", \"City\"]]\n",
        "\n",
        "# Row\n",
        "e = a.loc[0]\n",
        "f = a.loc[1:2]\n",
        "\n",
        "# Specific value\n",
        "g = a.loc[0, \"Temperature\"]\n",
        "h = a.loc[1:2, [\"Humidity\", \"City\"]]\n",
        "```\n",
        "\n",
        "* Adding Values\n",
        "\n",
        "```python\n",
        "a.loc[5] = { \"Temperature\": 19, \"Humidity\": 28, \"City\": \"Seoul\" }\n",
        "```\n",
        "\n",
        "* Deleting Values\n",
        "\n",
        "```python\n",
        "# Column\n",
        "a = a.drop(\"Temperature\", axis=1)\n",
        "\n",
        "# Row\n",
        "a = a.drop(5, axis=0)\n",
        "```\n",
        "\n",
        "* Basic Operations\n",
        "\n",
        "```python\n",
        "a.Quantity + 2\n",
        "a.Quantity > 60\n",
        "```"
      ],
      "metadata": {
        "id": "PTbVBivjKVeT"
      }
    },
    {
      "cell_type": "code",
      "source": [
        "import pandas as pd\n",
        "weather_df = pd.read_csv(\"weather.csv\") #dataframe"
      ],
      "metadata": {
        "id": "qiIIUv24kffD"
      },
      "execution_count": null,
      "outputs": []
    },
    {
      "cell_type": "code",
      "source": [
        "print(weather_df)"
      ],
      "metadata": {
        "colab": {
          "base_uri": "https://localhost:8080/"
        },
        "id": "O7ZQWS6qlLxd",
        "outputId": "5b447eab-daf8-4f2e-9af8-d68ea93a4108"
      },
      "execution_count": null,
      "outputs": [
        {
          "output_type": "stream",
          "name": "stdout",
          "text": [
            "   Temperature  Humidity         City\n",
            "0         22.2        30     New York\n",
            "1         20.0        50  Los Angeles\n",
            "2         18.3        45      Chicago\n",
            "3         23.9        35      Houston\n",
            "4         21.1        40      Phoenix\n"
          ]
        }
      ]
    },
    {
      "cell_type": "code",
      "source": [
        "#weather_df.loc[0]\n",
        "#weather_df[\"Temperature\"]"
      ],
      "metadata": {
        "id": "XohAFow_nAI-"
      },
      "execution_count": null,
      "outputs": []
    },
    {
      "cell_type": "code",
      "source": [
        "#nen nghe 31p vi so sanh\n",
        "\n",
        "#LIST:\n",
        "a[0] #[1,2,3]\n",
        "\n",
        "#numpy array\n",
        "a[1,2]  #2차원\n",
        "\n",
        "#pandas\n",
        "a[0,\"temp\"]"
      ],
      "metadata": {
        "id": "nn6G6q67nGR7"
      },
      "execution_count": null,
      "outputs": []
    },
    {
      "cell_type": "code",
      "source": [
        "#weather_df.loc[0,\"temp\"]"
      ],
      "metadata": {
        "id": "aqAUgHBtn24e"
      },
      "execution_count": null,
      "outputs": []
    },
    {
      "cell_type": "code",
      "source": [],
      "metadata": {
        "id": "pHqVpkvvn_qU"
      },
      "execution_count": null,
      "outputs": []
    },
    {
      "cell_type": "markdown",
      "source": [
        "## Grouping\n",
        "\n",
        "* value_counts()\n",
        "\n",
        "```python\n",
        "a.Category.value_counts()\n",
        "```\n",
        "\n",
        "* groupby()\n",
        "\n",
        "```python\n",
        "a.groupby(\"Category\").mean(numeric_only=True)\n",
        "```"
      ],
      "metadata": {
        "id": "T6FEeb-RNaJC"
      }
    },
    {
      "cell_type": "markdown",
      "source": [
        "## Filtering & Sorting\n",
        "\n",
        "* Filtering\n",
        "\n",
        "```python\n",
        "a[a.Quantity > 60]\n",
        "```\n",
        "\n",
        "* Sorting\n",
        "\n",
        "```python\n",
        "a.sort_values(by=\"Category\")\n",
        "```"
      ],
      "metadata": {
        "id": "nny-MI_mOY_s"
      }
    },
    {
      "cell_type": "markdown",
      "source": [
        "## Plotting\n",
        "\n",
        "* Line Plot\n",
        "\n",
        "```python\n",
        "import matplotlib.pyplot as plt\n",
        "\n",
        "a.plot(x=\"Price\", y=\"Quantity\", kind=\"line\")\n",
        "plt.show()\n",
        "```\n",
        "\n",
        "* Scatter Plot\n",
        "\n",
        "```python\n",
        "a.plot(x=\"Price\", y=\"Quantity\", kind=\"scatter\")\n",
        "plt.show()\n",
        "```\n",
        "\n",
        "* Bar Plot\n",
        "\n",
        "```python\n",
        "a.plot(x=\"City\", y=\"Humidity\", kind=\"bar\")\n",
        "plt.show()\n",
        "```\n",
        "\n",
        "* Pie Chart\n",
        "\n",
        "```python\n",
        "a = pd.DataFrame([{\"Category\": \"A\", \"Sales\": 1000},\n",
        "  {\"Category\": \"B\", \"Sales\": 300},\n",
        "  {\"Category\": \"C\", \"Sales\": 450},\n",
        "  {\"Category\": \"D\", \"Sales\": 100}])\n",
        "\n",
        "a.plot(y=\"Sales\", kind=\"pie\", labels=a.Category)\n",
        "plt.show()\n",
        "```"
      ],
      "metadata": {
        "id": "geCFO9tRO5on"
      }
    },
    {
      "cell_type": "markdown",
      "source": [
        "\n",
        "\n",
        "---\n",
        "\n"
      ],
      "metadata": {
        "id": "Sb0e8IPmJMqa"
      }
    },
    {
      "cell_type": "markdown",
      "source": [
        "# Appendix: List, Numpy, Pandas"
      ],
      "metadata": {
        "id": "cgQHt7oVXeSK"
      }
    },
    {
      "cell_type": "markdown",
      "source": [
        "## Index\n",
        "\n",
        "* List\n",
        "\n",
        "```python\n",
        "a[0]\n",
        "a[1:4]\n",
        "```\n",
        "\n",
        "* Numpy\n",
        "\n",
        "```python\n",
        "a[0, 2]\n",
        "a[1:3, 2:4]\n",
        "```\n",
        "\n",
        "* Pandas\n",
        "\n",
        "```python\n",
        "a.loc[0]\n",
        "a[\"Temperature\"]\n",
        "a.loc[1:2, [\"Temperature\", \"Humidity\"]]\n",
        "```\n",
        "\n",
        "## Add\n",
        "\n",
        "* List\n",
        "\n",
        "```python\n",
        "a.append(3)\n",
        "```\n",
        "\n",
        "* Pandas\n",
        "\n",
        "```python\n",
        "a.loc[5] = {\"Temperature\": 19, \"Humidity\": 28, \"City\": \"Seoul\"}\n",
        "```\n",
        "\n",
        "## Revise\n",
        "\n",
        "```python\n",
        "a[수정할 데이터의 위치] = 새로운 데이터\n",
        "```\n",
        "\n",
        "## Delete\n",
        "\n",
        "* list\n",
        "\n",
        "```python\n",
        "a.pop()\n",
        "```\n",
        "\n",
        "* pandas\n",
        "\n",
        "```python\n",
        "a = a.drop(5, axis=0)\n",
        "a = a.drop(\"Temperature\", axis=1)\n",
        "```\n",
        "\n",
        "\n",
        "\n"
      ],
      "metadata": {
        "id": "GPHUwaGsXlKA"
      }
    }
  ]
}