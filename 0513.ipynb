{
  "nbformat": 4,
  "nbformat_minor": 0,
  "metadata": {
    "colab": {
      "provenance": [],
      "authorship_tag": "ABX9TyPQWYrNaHcgLDo4xGbRRXCW",
      "include_colab_link": true
    },
    "kernelspec": {
      "name": "python3",
      "display_name": "Python 3"
    },
    "language_info": {
      "name": "python"
    }
  },
  "cells": [
    {
      "cell_type": "markdown",
      "metadata": {
        "id": "view-in-github",
        "colab_type": "text"
      },
      "source": [
        "<a href=\"https://colab.research.google.com/github/hlpvy/24_DS/blob/main/0513.ipynb\" target=\"_parent\"><img src=\"https://colab.research.google.com/assets/colab-badge.svg\" alt=\"Open In Colab\"/></a>"
      ]
    },
    {
      "cell_type": "code",
      "execution_count": null,
      "metadata": {
        "colab": {
          "base_uri": "https://localhost:8080/"
        },
        "id": "Rjx8dnKB-fnf",
        "outputId": "325ed107-17da-4013-df8e-b6505cdd48cd"
      },
      "outputs": [
        {
          "output_type": "execute_result",
          "data": {
            "text/plain": [
              "True"
            ]
          },
          "metadata": {},
          "execution_count": 8
        }
      ],
      "source": [
        "G = dict()\n",
        "\n",
        "G['A'] = ['C']\n",
        "G['B'] = ['C', 'D']\n",
        "G['C'] = ['A', 'B', 'D', 'E']\n",
        "G['D'] = ['B', 'C', 'E']\n",
        "G['E'] = ['C', 'D']\n",
        "\n",
        "# [] and '' !!!\n",
        "\n",
        "# C에서 A로 가는 직통 도로가 존재할까?\n",
        "# G['C']의 원소 가운데 'A'가 존재할까\n",
        "'A' in G['C']"
      ]
    },
    {
      "cell_type": "code",
      "source": [
        "def BFS(graph, start_node) :\n",
        "  visit = list()\n",
        "  queue = list()\n",
        "  visit.append(start_node)\n",
        "  queue.append(start_node)\n",
        "  while len(queue) > 0:\n",
        "    for each_node in graph[queue[0]] :\n",
        "      if(each_node in visit) == False:\n",
        "        visit.append(each_node)\n",
        "        queue.append(each_node)\n",
        "    del queue[0]\n",
        "  return visit"
      ],
      "metadata": {
        "id": "ZpWS9w8ACoMR"
      },
      "execution_count": null,
      "outputs": []
    },
    {
      "cell_type": "code",
      "source": [
        "G = dict()\n",
        "G[0] = [1,2] #ko co 34 nha ba\n",
        "G[1] = [0,2,3]\n",
        "G[2] = [0,1,4]\n",
        "G[3] = [1,4]\n",
        "G[4] = [2,3,5]\n",
        "G[5] = [4,6]\n",
        "G[6] = [5]\n",
        "\n",
        "BFS(G,4)"
      ],
      "metadata": {
        "colab": {
          "base_uri": "https://localhost:8080/",
          "height": 210
        },
        "id": "jnCSAbchDUZ1",
        "outputId": "4f79828f-1802-469f-ead6-7a1940511eeb"
      },
      "execution_count": null,
      "outputs": [
        {
          "output_type": "error",
          "ename": "NameError",
          "evalue": "name 'BFS' is not defined",
          "traceback": [
            "\u001b[0;31m---------------------------------------------------------------------------\u001b[0m",
            "\u001b[0;31mNameError\u001b[0m                                 Traceback (most recent call last)",
            "\u001b[0;32m<ipython-input-6-f7c59757c539>\u001b[0m in \u001b[0;36m<cell line: 10>\u001b[0;34m()\u001b[0m\n\u001b[1;32m      8\u001b[0m \u001b[0mG\u001b[0m\u001b[0;34m[\u001b[0m\u001b[0;36m6\u001b[0m\u001b[0;34m]\u001b[0m \u001b[0;34m=\u001b[0m \u001b[0;34m[\u001b[0m\u001b[0;36m5\u001b[0m\u001b[0;34m]\u001b[0m\u001b[0;34m\u001b[0m\u001b[0;34m\u001b[0m\u001b[0m\n\u001b[1;32m      9\u001b[0m \u001b[0;34m\u001b[0m\u001b[0m\n\u001b[0;32m---> 10\u001b[0;31m \u001b[0mBFS\u001b[0m\u001b[0;34m(\u001b[0m\u001b[0mG\u001b[0m\u001b[0;34m,\u001b[0m\u001b[0;36m4\u001b[0m\u001b[0;34m)\u001b[0m\u001b[0;34m\u001b[0m\u001b[0;34m\u001b[0m\u001b[0m\n\u001b[0m",
            "\u001b[0;31mNameError\u001b[0m: name 'BFS' is not defined"
          ]
        }
      ]
    },
    {
      "cell_type": "code",
      "source": [
        "# 4 - 2 - 3 - 5 - 0 - 1 - 6"
      ],
      "metadata": {
        "id": "aDlU8QYADKcy"
      },
      "execution_count": null,
      "outputs": []
    },
    {
      "cell_type": "markdown",
      "source": [
        "\n",
        "\n",
        "---\n",
        "\n"
      ],
      "metadata": {
        "id": "BrA2Ad2MIV_Z"
      }
    },
    {
      "cell_type": "code",
      "source": [
        "# <깊이 우선 탐색 = DFS>, <동순 시 오름차순>\n",
        "# 4-2-0-1-3-5-6"
      ],
      "metadata": {
        "id": "TiWGjvcUIW9O"
      },
      "execution_count": null,
      "outputs": []
    },
    {
      "cell_type": "code",
      "source": [
        "dfs_visit = list()\n",
        "\n",
        "def DFS (graph, start_node) :\n",
        "  dfs_visit.append(start_node)\n",
        "  for each_node in graph[start_node] :\n",
        "    if (each_node in dfs_visit) == False :\n",
        "      DFS(graph, each_node)\n",
        "\n",
        "DFS(G,4)\n",
        "print(dfs_visit)"
      ],
      "metadata": {
        "colab": {
          "base_uri": "https://localhost:8080/"
        },
        "id": "IHiRP8V5Icw2",
        "outputId": "1999cfa4-56d9-4529-dbde-3e9271d5d404"
      },
      "execution_count": null,
      "outputs": [
        {
          "output_type": "stream",
          "name": "stdout",
          "text": [
            "[4, 2, 0, 1, 3, 5, 6]\n"
          ]
        }
      ]
    },
    {
      "cell_type": "code",
      "source": [
        "#exercise2: 6-5-3-1-0-2-4-7-8-9"
      ],
      "metadata": {
        "id": "Xumo8ekNKQf5"
      },
      "execution_count": null,
      "outputs": []
    },
    {
      "cell_type": "code",
      "source": [
        "def topol_sort (graph) :\n",
        "  while len(graph) > 0 :\n",
        "    for i in graph.keys() :\n",
        "      topol_check = True\n",
        "      for j in graph.keys() :\n",
        "        if ( i in graph[j]) == True :\n",
        "          topol_check = False\n",
        "      if (topol_check == True) :\n",
        "        print ( i )\n",
        "        del graph[ i ]\n",
        "        break\n",
        "\n",
        "G = dict()\n",
        "\n",
        "G['전산수학'] = ['자료구조','논리설계']\n",
        "G['자료구조'] = ['알고리즘','네트위크']\n",
        "G['논리설계'] = ['네트위크','운영체제']\n",
        "G['알고리즘'] = ['인공지능']\n",
        "G['네트위크'] = ['인공지능']\n",
        "G['운영체제'] = ['인공지능']\n",
        "G['인공지능'] = []"
      ],
      "metadata": {
        "id": "Hio-lbicOMUk"
      },
      "execution_count": null,
      "outputs": []
    },
    {
      "cell_type": "code",
      "source": [
        "topol_sort(G)"
      ],
      "metadata": {
        "colab": {
          "base_uri": "https://localhost:8080/"
        },
        "id": "axvJ4KblOoOP",
        "outputId": "a5b58ef3-9e12-4070-938c-1fb1a6943176"
      },
      "execution_count": null,
      "outputs": [
        {
          "output_type": "stream",
          "name": "stdout",
          "text": [
            "전산수학\n",
            "자료구조\n",
            "논리설계\n",
            "알고리즘\n",
            "네트위크\n",
            "운영체제\n",
            "인공지능\n"
          ]
        }
      ]
    }
  ]
}