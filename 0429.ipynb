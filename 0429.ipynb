{
  "nbformat": 4,
  "nbformat_minor": 0,
  "metadata": {
    "colab": {
      "provenance": [],
      "authorship_tag": "ABX9TyPdZTs4N0hFxye410yojzTi",
      "include_colab_link": true
    },
    "kernelspec": {
      "name": "python3",
      "display_name": "Python 3"
    },
    "language_info": {
      "name": "python"
    }
  },
  "cells": [
    {
      "cell_type": "markdown",
      "metadata": {
        "id": "view-in-github",
        "colab_type": "text"
      },
      "source": [
        "<a href=\"https://colab.research.google.com/github/hlpvy/24_DS/blob/main/0429.ipynb\" target=\"_parent\"><img src=\"https://colab.research.google.com/assets/colab-badge.svg\" alt=\"Open In Colab\"/></a>"
      ]
    },
    {
      "cell_type": "markdown",
      "source": [
        "co ve ipad"
      ],
      "metadata": {
        "id": "Rh9mS-Te5xv1"
      }
    },
    {
      "cell_type": "code",
      "source": [
        "sld. 10"
      ],
      "metadata": {
        "id": "Temfp8tl74E5"
      },
      "execution_count": null,
      "outputs": []
    }
  ]
}